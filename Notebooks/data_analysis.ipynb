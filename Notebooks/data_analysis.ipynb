{
 "cells": [
  {
   "cell_type": "markdown",
   "id": "1b7def71",
   "metadata": {},
   "source": [
    "# Data Analysis:"
   ]
  },
  {
   "cell_type": "code",
   "execution_count": 1,
   "id": "2b81e3be",
   "metadata": {},
   "outputs": [
    {
     "name": "stderr",
     "output_type": "stream",
     "text": [
      "[nltk_data] Downloading package stopwords to\n",
      "[nltk_data]     C:\\Users\\Dibyendu\\AppData\\Roaming\\nltk_data...\n",
      "[nltk_data]   Package stopwords is already up-to-date!\n",
      "[nltk_data] Downloading package punkt to\n",
      "[nltk_data]     C:\\Users\\Dibyendu\\AppData\\Roaming\\nltk_data...\n",
      "[nltk_data]   Package punkt is already up-to-date!\n",
      "[nltk_data] Downloading package wordnet to\n",
      "[nltk_data]     C:\\Users\\Dibyendu\\AppData\\Roaming\\nltk_data...\n",
      "[nltk_data]   Package wordnet is already up-to-date!\n",
      "[nltk_data] Downloading package words to\n",
      "[nltk_data]     C:\\Users\\Dibyendu\\AppData\\Roaming\\nltk_data...\n",
      "[nltk_data]   Package words is already up-to-date!\n"
     ]
    }
   ],
   "source": [
    "# Suppressing Warnings:\n",
    "import warnings\n",
    "warnings.filterwarnings('ignore')\n",
    "\n",
    "import string\n",
    "import re\n",
    "\n",
    "# Data Handling:\n",
    "import numpy as np\n",
    "import pandas as pd\n",
    "import matplotlib.pyplot as plt\n",
    "import seaborn as sns\n",
    "\n",
    "pd.set_option('display.max_row', None)\n",
    "pd.set_option('display.max_column', None)\n",
    "\n",
    "%matplotlib inline\n",
    "sns.set()\n",
    "\n",
    "# NLP:\n",
    "import nltk\n",
    "from nltk import FreqDist\n",
    "from nltk.tokenize import sent_tokenize, word_tokenize\n",
    "from nltk.corpus import stopwords\n",
    "from nltk.stem import PorterStemmer\n",
    "\n",
    "nltk.download('stopwords')\n",
    "nltk.download('punkt')\n",
    "nltk.download(\"wordnet\")\n",
    "nltk.download('words')\n",
    "\n",
    "# TF-IDF & Bag of Words:\n",
    "from sklearn.feature_extraction.text import CountVectorizer, TfidfVectorizer\n",
    "import joblib"
   ]
  },
  {
   "cell_type": "markdown",
   "id": "42fcd1de",
   "metadata": {},
   "source": [
    "### Step 01:"
   ]
  },
  {
   "cell_type": "markdown",
   "id": "fd86be12",
   "metadata": {},
   "source": [
    "### Data Cleaning:"
   ]
  },
  {
   "cell_type": "code",
   "execution_count": 2,
   "id": "2536d0e0",
   "metadata": {},
   "outputs": [
    {
     "data": {
      "text/html": [
       "<div>\n",
       "<style scoped>\n",
       "    .dataframe tbody tr th:only-of-type {\n",
       "        vertical-align: middle;\n",
       "    }\n",
       "\n",
       "    .dataframe tbody tr th {\n",
       "        vertical-align: top;\n",
       "    }\n",
       "\n",
       "    .dataframe thead th {\n",
       "        text-align: right;\n",
       "    }\n",
       "</style>\n",
       "<table border=\"1\" class=\"dataframe\">\n",
       "  <thead>\n",
       "    <tr style=\"text-align: right;\">\n",
       "      <th></th>\n",
       "      <th>v1</th>\n",
       "      <th>v2</th>\n",
       "    </tr>\n",
       "  </thead>\n",
       "  <tbody>\n",
       "    <tr>\n",
       "      <th>0</th>\n",
       "      <td>ham</td>\n",
       "      <td>Go until jurong point, crazy.. Available only ...</td>\n",
       "    </tr>\n",
       "    <tr>\n",
       "      <th>1</th>\n",
       "      <td>ham</td>\n",
       "      <td>Ok lar... Joking wif u oni...</td>\n",
       "    </tr>\n",
       "    <tr>\n",
       "      <th>2</th>\n",
       "      <td>spam</td>\n",
       "      <td>Free entry in 2 a wkly comp to win FA Cup fina...</td>\n",
       "    </tr>\n",
       "    <tr>\n",
       "      <th>3</th>\n",
       "      <td>ham</td>\n",
       "      <td>U dun say so early hor... U c already then say...</td>\n",
       "    </tr>\n",
       "    <tr>\n",
       "      <th>4</th>\n",
       "      <td>ham</td>\n",
       "      <td>Nah I don't think he goes to usf, he lives aro...</td>\n",
       "    </tr>\n",
       "  </tbody>\n",
       "</table>\n",
       "</div>"
      ],
      "text/plain": [
       "     v1                                                 v2\n",
       "0   ham  Go until jurong point, crazy.. Available only ...\n",
       "1   ham                      Ok lar... Joking wif u oni...\n",
       "2  spam  Free entry in 2 a wkly comp to win FA Cup fina...\n",
       "3   ham  U dun say so early hor... U c already then say...\n",
       "4   ham  Nah I don't think he goes to usf, he lives aro..."
      ]
     },
     "execution_count": 2,
     "metadata": {},
     "output_type": "execute_result"
    }
   ],
   "source": [
    "#read the data:\n",
    "\n",
    "data = pd.read_csv(\"../Data/spam.csv\", encoding=\"ISO-8859-1\", usecols=['v1', 'v2'])\n",
    "data.head()"
   ]
  },
  {
   "cell_type": "code",
   "execution_count": 3,
   "id": "4a4175a3",
   "metadata": {},
   "outputs": [],
   "source": [
    "# rename the columns or features:\n",
    "\n",
    "data.rename(columns={'v1':'target', 'v2':'msg'}, inplace=True)"
   ]
  },
  {
   "cell_type": "code",
   "execution_count": 4,
   "id": "55f99f1e",
   "metadata": {},
   "outputs": [
    {
     "data": {
      "text/plain": [
       "target    0\n",
       "msg       0\n",
       "dtype: int64"
      ]
     },
     "execution_count": 4,
     "metadata": {},
     "output_type": "execute_result"
    }
   ],
   "source": [
    "# check there is any null values are present of not:\n",
    "\n",
    "data.isnull().sum()"
   ]
  },
  {
   "cell_type": "code",
   "execution_count": 5,
   "id": "a88af909",
   "metadata": {},
   "outputs": [
    {
     "name": "stdout",
     "output_type": "stream",
     "text": [
      "{'ham': 4825, 'spam': 747}\n"
     ]
    },
    {
     "data": {
      "image/png": "[encoded data removed]",
      "text/plain": [
       "<Figure size 432x288 with 1 Axes>"
      ]
     },
     "metadata": {},
     "output_type": "display_data"
    }
   ],
   "source": [
    "# check data is balanced or not based on \"target\" feature:\n",
    "\n",
    "print(data['target'].value_counts().to_dict())\n",
    "data['target'].value_counts().plot(kind='bar', rot=0)\n",
    "plt.show()"
   ]
  },
  {
   "cell_type": "code",
   "execution_count": 6,
   "id": "c1cef4f3",
   "metadata": {},
   "outputs": [
    {
     "data": {
      "text/html": [
       "<div>\n",
       "<style scoped>\n",
       "    .dataframe tbody tr th:only-of-type {\n",
       "        vertical-align: middle;\n",
       "    }\n",
       "\n",
       "    .dataframe tbody tr th {\n",
       "        vertical-align: top;\n",
       "    }\n",
       "\n",
       "    .dataframe thead th {\n",
       "        text-align: right;\n",
       "    }\n",
       "</style>\n",
       "<table border=\"1\" class=\"dataframe\">\n",
       "  <thead>\n",
       "    <tr style=\"text-align: right;\">\n",
       "      <th></th>\n",
       "      <th>target</th>\n",
       "      <th>msg</th>\n",
       "    </tr>\n",
       "  </thead>\n",
       "  <tbody>\n",
       "    <tr>\n",
       "      <th>0</th>\n",
       "      <td>ham</td>\n",
       "      <td>go until jurong point, crazy.. available only ...</td>\n",
       "    </tr>\n",
       "    <tr>\n",
       "      <th>1</th>\n",
       "      <td>ham</td>\n",
       "      <td>ok lar... joking wif u oni...</td>\n",
       "    </tr>\n",
       "    <tr>\n",
       "      <th>2</th>\n",
       "      <td>spam</td>\n",
       "      <td>free entry in 2 a wkly comp to win fa cup fina...</td>\n",
       "    </tr>\n",
       "    <tr>\n",
       "      <th>3</th>\n",
       "      <td>ham</td>\n",
       "      <td>u dun say so early hor... u c already then say...</td>\n",
       "    </tr>\n",
       "    <tr>\n",
       "      <th>4</th>\n",
       "      <td>ham</td>\n",
       "      <td>nah i don't think he goes to usf, he lives aro...</td>\n",
       "    </tr>\n",
       "  </tbody>\n",
       "</table>\n",
       "</div>"
      ],
      "text/plain": [
       "  target                                                msg\n",
       "0    ham  go until jurong point, crazy.. available only ...\n",
       "1    ham                      ok lar... joking wif u oni...\n",
       "2   spam  free entry in 2 a wkly comp to win fa cup fina...\n",
       "3    ham  u dun say so early hor... u c already then say...\n",
       "4    ham  nah i don't think he goes to usf, he lives aro..."
      ]
     },
     "execution_count": 6,
     "metadata": {},
     "output_type": "execute_result"
    }
   ],
   "source": [
    "# lowering the text & trim the text:\n",
    "\n",
    "data['target'] = data['target'].apply(lambda x: x.strip())\n",
    "data['target'] = data['target'].apply(lambda x: x.lower())\n",
    "\n",
    "data['msg'] = data['msg'].apply(lambda x: x.strip())\n",
    "data['msg'] = data['msg'].apply(lambda x: x.lower())\n",
    "\n",
    "data.head()"
   ]
  },
  {
   "cell_type": "code",
   "execution_count": 7,
   "id": "8406c668",
   "metadata": {},
   "outputs": [
    {
     "data": {
      "text/plain": [
       "(5572, 2)"
      ]
     },
     "execution_count": 7,
     "metadata": {},
     "output_type": "execute_result"
    }
   ],
   "source": [
    "# size of data:\n",
    "\n",
    "data.shape"
   ]
  },
  {
   "cell_type": "code",
   "execution_count": 8,
   "id": "91cdf154",
   "metadata": {},
   "outputs": [
    {
     "name": "stdout",
     "output_type": "stream",
     "text": [
      "shape of data:  (5572, 2)\n",
      "Total duplicate values:  415 \n",
      "\n",
      "After handle duplicates values:  0\n",
      "shape of data:  (5157, 2)\n"
     ]
    }
   ],
   "source": [
    "# Check & Handle duplicates:\n",
    "\n",
    "print(\"shape of data: \", data.shape)\n",
    "print(\"Total duplicate values: \", data.duplicated().sum(), '\\n') # 415\n",
    "data = data.drop_duplicates(keep='first')\n",
    "print(\"After handle duplicates values: \", data.duplicated().sum())\n",
    "print(\"shape of data: \", data.shape)"
   ]
  },
  {
   "cell_type": "code",
   "execution_count": 9,
   "id": "e9179de2",
   "metadata": {},
   "outputs": [
    {
     "name": "stdout",
     "output_type": "stream",
     "text": [
      "{'ham': 4515, 'spam': 642}\n"
     ]
    },
    {
     "data": {
      "image/png": "[encoded data removed]",
      "text/plain": [
       "<Figure size 360x360 with 1 Axes>"
      ]
     },
     "metadata": {},
     "output_type": "display_data"
    }
   ],
   "source": [
    "# check data is balanced or not based on \"target\" feature:\n",
    "\n",
    "print(data['target'].value_counts().to_dict())\n",
    "\n",
    "plt.figure(figsize=(5,5))\n",
    "plt.pie(data['target'].value_counts(), labels=['ham', 'spam'], autopct='%0.2f', colors=['green', 'red'])\n",
    "plt.show()"
   ]
  },
  {
   "cell_type": "code",
   "execution_count": 10,
   "id": "1c317daa",
   "metadata": {},
   "outputs": [],
   "source": [
    "# label encoding:\n",
    "\n",
    "data['target'] = data['target'].map({'ham':0, 'spam':1})  # ham:0 spam:1"
   ]
  },
  {
   "cell_type": "code",
   "execution_count": null,
   "id": "e33f1e7a",
   "metadata": {},
   "outputs": [],
   "source": []
  },
  {
   "cell_type": "markdown",
   "id": "21f88b63",
   "metadata": {},
   "source": [
    "### Step 02:"
   ]
  },
  {
   "cell_type": "markdown",
   "id": "300bffa4",
   "metadata": {},
   "source": [
    "### Exploratory Data Analysis:"
   ]
  },
  {
   "cell_type": "code",
   "execution_count": 11,
   "id": "6b0899ad",
   "metadata": {},
   "outputs": [
    {
     "data": {
      "text/html": [
       "<div>\n",
       "<style scoped>\n",
       "    .dataframe tbody tr th:only-of-type {\n",
       "        vertical-align: middle;\n",
       "    }\n",
       "\n",
       "    .dataframe tbody tr th {\n",
       "        vertical-align: top;\n",
       "    }\n",
       "\n",
       "    .dataframe thead th {\n",
       "        text-align: right;\n",
       "    }\n",
       "</style>\n",
       "<table border=\"1\" class=\"dataframe\">\n",
       "  <thead>\n",
       "    <tr style=\"text-align: right;\">\n",
       "      <th></th>\n",
       "      <th>target</th>\n",
       "      <th>msg</th>\n",
       "      <th>no_of_character</th>\n",
       "      <th>no_of_words</th>\n",
       "      <th>no_of_sentences</th>\n",
       "    </tr>\n",
       "  </thead>\n",
       "  <tbody>\n",
       "    <tr>\n",
       "      <th>0</th>\n",
       "      <td>0</td>\n",
       "      <td>go until jurong point, crazy.. available only ...</td>\n",
       "      <td>111</td>\n",
       "      <td>24</td>\n",
       "      <td>1</td>\n",
       "    </tr>\n",
       "    <tr>\n",
       "      <th>1</th>\n",
       "      <td>0</td>\n",
       "      <td>ok lar... joking wif u oni...</td>\n",
       "      <td>29</td>\n",
       "      <td>8</td>\n",
       "      <td>1</td>\n",
       "    </tr>\n",
       "    <tr>\n",
       "      <th>2</th>\n",
       "      <td>1</td>\n",
       "      <td>free entry in 2 a wkly comp to win fa cup fina...</td>\n",
       "      <td>155</td>\n",
       "      <td>36</td>\n",
       "      <td>1</td>\n",
       "    </tr>\n",
       "    <tr>\n",
       "      <th>3</th>\n",
       "      <td>0</td>\n",
       "      <td>u dun say so early hor... u c already then say...</td>\n",
       "      <td>49</td>\n",
       "      <td>13</td>\n",
       "      <td>1</td>\n",
       "    </tr>\n",
       "    <tr>\n",
       "      <th>4</th>\n",
       "      <td>0</td>\n",
       "      <td>nah i don't think he goes to usf, he lives aro...</td>\n",
       "      <td>61</td>\n",
       "      <td>15</td>\n",
       "      <td>1</td>\n",
       "    </tr>\n",
       "  </tbody>\n",
       "</table>\n",
       "</div>"
      ],
      "text/plain": [
       "   target                                                msg  no_of_character  \\\n",
       "0       0  go until jurong point, crazy.. available only ...              111   \n",
       "1       0                      ok lar... joking wif u oni...               29   \n",
       "2       1  free entry in 2 a wkly comp to win fa cup fina...              155   \n",
       "3       0  u dun say so early hor... u c already then say...               49   \n",
       "4       0  nah i don't think he goes to usf, he lives aro...               61   \n",
       "\n",
       "   no_of_words  no_of_sentences  \n",
       "0           24                1  \n",
       "1            8                1  \n",
       "2           36                1  \n",
       "3           13                1  \n",
       "4           15                1  "
      ]
     },
     "execution_count": 11,
     "metadata": {},
     "output_type": "execute_result"
    }
   ],
   "source": [
    "# get the number of character, number of words & numbet of sentences:\n",
    "\n",
    "data['no_of_character'] = data['msg'].apply(len)\n",
    "data['no_of_words'] = data['msg'].apply(lambda x: len(word_tokenize(x)))\n",
    "data['no_of_sentences'] = data['msg'].apply(lambda x: len(sent_tokenize(x)))\n",
    "data.head()"
   ]
  },
  {
   "cell_type": "code",
   "execution_count": 12,
   "id": "97701488",
   "metadata": {},
   "outputs": [
    {
     "data": {
      "text/html": [
       "<div>\n",
       "<style scoped>\n",
       "    .dataframe tbody tr th:only-of-type {\n",
       "        vertical-align: middle;\n",
       "    }\n",
       "\n",
       "    .dataframe tbody tr th {\n",
       "        vertical-align: top;\n",
       "    }\n",
       "\n",
       "    .dataframe thead th {\n",
       "        text-align: right;\n",
       "    }\n",
       "</style>\n",
       "<table border=\"1\" class=\"dataframe\">\n",
       "  <thead>\n",
       "    <tr style=\"text-align: right;\">\n",
       "      <th></th>\n",
       "      <th>no_of_character</th>\n",
       "      <th>no_of_words</th>\n",
       "      <th>no_of_sentences</th>\n",
       "    </tr>\n",
       "  </thead>\n",
       "  <tbody>\n",
       "    <tr>\n",
       "      <th>count</th>\n",
       "      <td>5157.000000</td>\n",
       "      <td>5157.000000</td>\n",
       "      <td>5157.000000</td>\n",
       "    </tr>\n",
       "    <tr>\n",
       "      <th>mean</th>\n",
       "      <td>78.791933</td>\n",
       "      <td>18.402172</td>\n",
       "      <td>1.879581</td>\n",
       "    </tr>\n",
       "    <tr>\n",
       "      <th>std</th>\n",
       "      <td>58.191975</td>\n",
       "      <td>13.286979</td>\n",
       "      <td>1.356693</td>\n",
       "    </tr>\n",
       "    <tr>\n",
       "      <th>min</th>\n",
       "      <td>2.000000</td>\n",
       "      <td>1.000000</td>\n",
       "      <td>1.000000</td>\n",
       "    </tr>\n",
       "    <tr>\n",
       "      <th>25%</th>\n",
       "      <td>36.000000</td>\n",
       "      <td>9.000000</td>\n",
       "      <td>1.000000</td>\n",
       "    </tr>\n",
       "    <tr>\n",
       "      <th>50%</th>\n",
       "      <td>60.000000</td>\n",
       "      <td>15.000000</td>\n",
       "      <td>1.000000</td>\n",
       "    </tr>\n",
       "    <tr>\n",
       "      <th>75%</th>\n",
       "      <td>116.000000</td>\n",
       "      <td>26.000000</td>\n",
       "      <td>2.000000</td>\n",
       "    </tr>\n",
       "    <tr>\n",
       "      <th>max</th>\n",
       "      <td>910.000000</td>\n",
       "      <td>216.000000</td>\n",
       "      <td>34.000000</td>\n",
       "    </tr>\n",
       "  </tbody>\n",
       "</table>\n",
       "</div>"
      ],
      "text/plain": [
       "       no_of_character  no_of_words  no_of_sentences\n",
       "count      5157.000000  5157.000000      5157.000000\n",
       "mean         78.791933    18.402172         1.879581\n",
       "std          58.191975    13.286979         1.356693\n",
       "min           2.000000     1.000000         1.000000\n",
       "25%          36.000000     9.000000         1.000000\n",
       "50%          60.000000    15.000000         1.000000\n",
       "75%         116.000000    26.000000         2.000000\n",
       "max         910.000000   216.000000        34.000000"
      ]
     },
     "execution_count": 12,
     "metadata": {},
     "output_type": "execute_result"
    }
   ],
   "source": [
    "# check data description:\n",
    "\n",
    "data[['no_of_character', 'no_of_words', 'no_of_sentences']].describe()"
   ]
  },
  {
   "cell_type": "code",
   "execution_count": 13,
   "id": "fa949e20",
   "metadata": {},
   "outputs": [
    {
     "data": {
      "text/html": [
       "<div>\n",
       "<style scoped>\n",
       "    .dataframe tbody tr th:only-of-type {\n",
       "        vertical-align: middle;\n",
       "    }\n",
       "\n",
       "    .dataframe tbody tr th {\n",
       "        vertical-align: top;\n",
       "    }\n",
       "\n",
       "    .dataframe thead th {\n",
       "        text-align: right;\n",
       "    }\n",
       "</style>\n",
       "<table border=\"1\" class=\"dataframe\">\n",
       "  <thead>\n",
       "    <tr style=\"text-align: right;\">\n",
       "      <th></th>\n",
       "      <th>no_of_character</th>\n",
       "      <th>no_of_words</th>\n",
       "      <th>no_of_sentences</th>\n",
       "    </tr>\n",
       "  </thead>\n",
       "  <tbody>\n",
       "    <tr>\n",
       "      <th>count</th>\n",
       "      <td>4515.000000</td>\n",
       "      <td>4515.000000</td>\n",
       "      <td>4515.000000</td>\n",
       "    </tr>\n",
       "    <tr>\n",
       "      <th>mean</th>\n",
       "      <td>70.431008</td>\n",
       "      <td>17.109635</td>\n",
       "      <td>1.744408</td>\n",
       "    </tr>\n",
       "    <tr>\n",
       "      <th>std</th>\n",
       "      <td>56.355381</td>\n",
       "      <td>13.463161</td>\n",
       "      <td>1.291485</td>\n",
       "    </tr>\n",
       "    <tr>\n",
       "      <th>min</th>\n",
       "      <td>2.000000</td>\n",
       "      <td>1.000000</td>\n",
       "      <td>1.000000</td>\n",
       "    </tr>\n",
       "    <tr>\n",
       "      <th>25%</th>\n",
       "      <td>34.000000</td>\n",
       "      <td>8.000000</td>\n",
       "      <td>1.000000</td>\n",
       "    </tr>\n",
       "    <tr>\n",
       "      <th>50%</th>\n",
       "      <td>52.000000</td>\n",
       "      <td>13.000000</td>\n",
       "      <td>1.000000</td>\n",
       "    </tr>\n",
       "    <tr>\n",
       "      <th>75%</th>\n",
       "      <td>90.000000</td>\n",
       "      <td>22.000000</td>\n",
       "      <td>2.000000</td>\n",
       "    </tr>\n",
       "    <tr>\n",
       "      <th>max</th>\n",
       "      <td>910.000000</td>\n",
       "      <td>216.000000</td>\n",
       "      <td>34.000000</td>\n",
       "    </tr>\n",
       "  </tbody>\n",
       "</table>\n",
       "</div>"
      ],
      "text/plain": [
       "       no_of_character  no_of_words  no_of_sentences\n",
       "count      4515.000000  4515.000000      4515.000000\n",
       "mean         70.431008    17.109635         1.744408\n",
       "std          56.355381    13.463161         1.291485\n",
       "min           2.000000     1.000000         1.000000\n",
       "25%          34.000000     8.000000         1.000000\n",
       "50%          52.000000    13.000000         1.000000\n",
       "75%          90.000000    22.000000         2.000000\n",
       "max         910.000000   216.000000        34.000000"
      ]
     },
     "execution_count": 13,
     "metadata": {},
     "output_type": "execute_result"
    }
   ],
   "source": [
    "# for ham, (ham=0), check data discription\n",
    "\n",
    "data[data['target']==0][['no_of_character', 'no_of_words', 'no_of_sentences']].describe()"
   ]
  },
  {
   "cell_type": "code",
   "execution_count": 14,
   "id": "f485a45b",
   "metadata": {},
   "outputs": [
    {
     "data": {
      "text/html": [
       "<div>\n",
       "<style scoped>\n",
       "    .dataframe tbody tr th:only-of-type {\n",
       "        vertical-align: middle;\n",
       "    }\n",
       "\n",
       "    .dataframe tbody tr th {\n",
       "        vertical-align: top;\n",
       "    }\n",
       "\n",
       "    .dataframe thead th {\n",
       "        text-align: right;\n",
       "    }\n",
       "</style>\n",
       "<table border=\"1\" class=\"dataframe\">\n",
       "  <thead>\n",
       "    <tr style=\"text-align: right;\">\n",
       "      <th></th>\n",
       "      <th>no_of_character</th>\n",
       "      <th>no_of_words</th>\n",
       "      <th>no_of_sentences</th>\n",
       "    </tr>\n",
       "  </thead>\n",
       "  <tbody>\n",
       "    <tr>\n",
       "      <th>count</th>\n",
       "      <td>642.00000</td>\n",
       "      <td>642.000000</td>\n",
       "      <td>642.000000</td>\n",
       "    </tr>\n",
       "    <tr>\n",
       "      <th>mean</th>\n",
       "      <td>137.59190</td>\n",
       "      <td>27.492212</td>\n",
       "      <td>2.830218</td>\n",
       "    </tr>\n",
       "    <tr>\n",
       "      <th>std</th>\n",
       "      <td>30.29638</td>\n",
       "      <td>7.007513</td>\n",
       "      <td>1.423282</td>\n",
       "    </tr>\n",
       "    <tr>\n",
       "      <th>min</th>\n",
       "      <td>13.00000</td>\n",
       "      <td>2.000000</td>\n",
       "      <td>1.000000</td>\n",
       "    </tr>\n",
       "    <tr>\n",
       "      <th>25%</th>\n",
       "      <td>131.25000</td>\n",
       "      <td>25.000000</td>\n",
       "      <td>2.000000</td>\n",
       "    </tr>\n",
       "    <tr>\n",
       "      <th>50%</th>\n",
       "      <td>148.00000</td>\n",
       "      <td>29.000000</td>\n",
       "      <td>3.000000</td>\n",
       "    </tr>\n",
       "    <tr>\n",
       "      <th>75%</th>\n",
       "      <td>157.00000</td>\n",
       "      <td>32.000000</td>\n",
       "      <td>4.000000</td>\n",
       "    </tr>\n",
       "    <tr>\n",
       "      <th>max</th>\n",
       "      <td>224.00000</td>\n",
       "      <td>46.000000</td>\n",
       "      <td>9.000000</td>\n",
       "    </tr>\n",
       "  </tbody>\n",
       "</table>\n",
       "</div>"
      ],
      "text/plain": [
       "       no_of_character  no_of_words  no_of_sentences\n",
       "count        642.00000   642.000000       642.000000\n",
       "mean         137.59190    27.492212         2.830218\n",
       "std           30.29638     7.007513         1.423282\n",
       "min           13.00000     2.000000         1.000000\n",
       "25%          131.25000    25.000000         2.000000\n",
       "50%          148.00000    29.000000         3.000000\n",
       "75%          157.00000    32.000000         4.000000\n",
       "max          224.00000    46.000000         9.000000"
      ]
     },
     "execution_count": 14,
     "metadata": {},
     "output_type": "execute_result"
    }
   ],
   "source": [
    "# for ham, (spam=1), check data discription\n",
    "\n",
    "data[data['target']==1][['no_of_character', 'no_of_words', 'no_of_sentences']].describe()"
   ]
  },
  {
   "cell_type": "code",
   "execution_count": 15,
   "id": "da8ca83a",
   "metadata": {},
   "outputs": [
    {
     "data": {
      "image/png": "[encoded data removed]",
      "text/plain": [
       "<Figure size 864x432 with 1 Axes>"
      ]
     },
     "metadata": {},
     "output_type": "display_data"
    }
   ],
   "source": [
    "# check data distribution: for no_character feature\n",
    "\n",
    "plt.figure(figsize=(12,6))\n",
    "sns.histplot(data=data, x='no_of_character', hue='target')\n",
    "plt.show()"
   ]
  },
  {
   "cell_type": "code",
   "execution_count": 16,
   "id": "a8dab072",
   "metadata": {},
   "outputs": [
    {
     "data": {
      "image/png": "[encoded data removed]",
      "text/plain": [
       "<Figure size 864x432 with 1 Axes>"
      ]
     },
     "metadata": {},
     "output_type": "display_data"
    }
   ],
   "source": [
    "# check data distribution: for no_of_words feature\n",
    "\n",
    "plt.figure(figsize=(12,6))\n",
    "sns.histplot(data=data, x='no_of_words', hue='target')\n",
    "plt.show()"
   ]
  },
  {
   "cell_type": "code",
   "execution_count": 17,
   "id": "5c24928f",
   "metadata": {},
   "outputs": [
    {
     "data": {
      "text/plain": [
       "<Figure size 1080x576 with 0 Axes>"
      ]
     },
     "metadata": {},
     "output_type": "display_data"
    },
    {
     "data": {
      "image/png": "[encoded data removed]",
      "text/plain": [
       "<Figure size 585.725x540 with 12 Axes>"
      ]
     },
     "metadata": {},
     "output_type": "display_data"
    }
   ],
   "source": [
    "plt.figure(figsize=(15,8))\n",
    "sns.pairplot(data=data, hue='target')\n",
    "plt.show()"
   ]
  },
  {
   "cell_type": "code",
   "execution_count": 18,
   "id": "e1b29b28",
   "metadata": {},
   "outputs": [
    {
     "data": {
      "image/png": "[encoded data removed]",
      "text/plain": [
       "<Figure size 432x288 with 2 Axes>"
      ]
     },
     "metadata": {},
     "output_type": "display_data"
    }
   ],
   "source": [
    "# find the Co-rrelation:\n",
    "\n",
    "sns.heatmap(data.corr(), annot=True)\n",
    "plt.show()"
   ]
  },
  {
   "cell_type": "code",
   "execution_count": null,
   "id": "6a4585fc",
   "metadata": {},
   "outputs": [],
   "source": []
  },
  {
   "cell_type": "markdown",
   "id": "dde470c5",
   "metadata": {},
   "source": [
    "### Step 03: "
   ]
  },
  {
   "cell_type": "markdown",
   "id": "f9a6f2ca",
   "metadata": {},
   "source": [
    "### Text Pre-Processing:"
   ]
  },
  {
   "cell_type": "markdown",
   "id": "6788d8c2",
   "metadata": {},
   "source": [
    "*  Lowering the text;\n",
    "*  Removing the numbers;\n",
    "*  Removing the punctuation;\n",
    "*  Tokenize the text to word;\n",
    "*  Removing the stop-of-words;\n",
    "*  Stemming the text, etc."
   ]
  },
  {
   "cell_type": "code",
   "execution_count": 19,
   "id": "8c0ff864",
   "metadata": {},
   "outputs": [
    {
     "data": {
      "text/html": [
       "<div>\n",
       "<style scoped>\n",
       "    .dataframe tbody tr th:only-of-type {\n",
       "        vertical-align: middle;\n",
       "    }\n",
       "\n",
       "    .dataframe tbody tr th {\n",
       "        vertical-align: top;\n",
       "    }\n",
       "\n",
       "    .dataframe thead th {\n",
       "        text-align: right;\n",
       "    }\n",
       "</style>\n",
       "<table border=\"1\" class=\"dataframe\">\n",
       "  <thead>\n",
       "    <tr style=\"text-align: right;\">\n",
       "      <th></th>\n",
       "      <th>target</th>\n",
       "      <th>msg</th>\n",
       "      <th>no_of_character</th>\n",
       "      <th>no_of_words</th>\n",
       "      <th>no_of_sentences</th>\n",
       "    </tr>\n",
       "  </thead>\n",
       "  <tbody>\n",
       "    <tr>\n",
       "      <th>0</th>\n",
       "      <td>0</td>\n",
       "      <td>go jurong point crazi avail bugi n great world...</td>\n",
       "      <td>111</td>\n",
       "      <td>24</td>\n",
       "      <td>1</td>\n",
       "    </tr>\n",
       "    <tr>\n",
       "      <th>1</th>\n",
       "      <td>0</td>\n",
       "      <td>ok lar joke wif u oni</td>\n",
       "      <td>29</td>\n",
       "      <td>8</td>\n",
       "      <td>1</td>\n",
       "    </tr>\n",
       "    <tr>\n",
       "      <th>2</th>\n",
       "      <td>1</td>\n",
       "      <td>free entri wkli comp win fa cup final tkt st m...</td>\n",
       "      <td>155</td>\n",
       "      <td>36</td>\n",
       "      <td>1</td>\n",
       "    </tr>\n",
       "    <tr>\n",
       "      <th>3</th>\n",
       "      <td>0</td>\n",
       "      <td>u dun say earli hor u c alreadi say</td>\n",
       "      <td>49</td>\n",
       "      <td>13</td>\n",
       "      <td>1</td>\n",
       "    </tr>\n",
       "    <tr>\n",
       "      <th>4</th>\n",
       "      <td>0</td>\n",
       "      <td>nah dont think goe usf live around though</td>\n",
       "      <td>61</td>\n",
       "      <td>15</td>\n",
       "      <td>1</td>\n",
       "    </tr>\n",
       "  </tbody>\n",
       "</table>\n",
       "</div>"
      ],
      "text/plain": [
       "   target                                                msg  no_of_character  \\\n",
       "0       0  go jurong point crazi avail bugi n great world...              111   \n",
       "1       0                              ok lar joke wif u oni               29   \n",
       "2       1  free entri wkli comp win fa cup final tkt st m...              155   \n",
       "3       0                u dun say earli hor u c alreadi say               49   \n",
       "4       0          nah dont think goe usf live around though               61   \n",
       "\n",
       "   no_of_words  no_of_sentences  \n",
       "0           24                1  \n",
       "1            8                1  \n",
       "2           36                1  \n",
       "3           13                1  \n",
       "4           15                1  "
      ]
     },
     "execution_count": 19,
     "metadata": {},
     "output_type": "execute_result"
    }
   ],
   "source": [
    "def text_preprocessing(data, col):\n",
    "    \n",
    "    # Loweing the text:\n",
    "    data[col] = data[col].apply(lambda x: x.lower())\n",
    "    \n",
    "    # Remove the numbers:\n",
    "    data[col] = data[col].apply(lambda x:re.sub(r\"\\d+\", '', x))\n",
    "    \n",
    "    # Remove the punctuation:\n",
    "    translator = str.maketrans('', '', string.punctuation)\n",
    "    data[col] = data[col].apply(lambda x: x.translate(translator))                          \n",
    "\n",
    "    # Word Tokenize:\n",
    "    data[col] = data[col].apply(lambda x: word_tokenize(x))                            \n",
    "    \n",
    "    # Remove the stop-of-words:\n",
    "    stop_of_words = set(stopwords.words('english'))\n",
    "    data[col] = data[col].apply(lambda x: [word for word in x if word not in stop_of_words])\n",
    "                                \n",
    "    # Stemming the data:\n",
    "    porter = PorterStemmer()\n",
    "    data[col] = data[col].apply(lambda x: [porter.stem(word) for word in x])\n",
    "    \n",
    "    # join with space:\n",
    "    data[col] = data[col].apply(lambda x: \" \".join(x))\n",
    "    \n",
    "    # after text-preprocessing return the data:\n",
    "    return data    \n",
    "    \n",
    "    \n",
    "data = text_preprocessing(data, 'msg')\n",
    "data.head()"
   ]
  },
  {
   "cell_type": "code",
   "execution_count": null,
   "id": "cc297fbc",
   "metadata": {},
   "outputs": [],
   "source": []
  },
  {
   "cell_type": "markdown",
   "id": "c53ac770",
   "metadata": {},
   "source": [
    "### Step 04:"
   ]
  },
  {
   "cell_type": "markdown",
   "id": "57838cd4",
   "metadata": {},
   "source": [
    "### Analyze Word Frequency Distribution:"
   ]
  },
  {
   "cell_type": "code",
   "execution_count": 20,
   "id": "84f90f84",
   "metadata": {},
   "outputs": [],
   "source": [
    "# Frequency Distribution: for ham: [target=0];  spam: [target=1]\n",
    "\n",
    "ham_corpus = []\n",
    "spam_corpus = []\n",
    "for words in data[data['target']==0]['msg'].tolist():\n",
    "    for word in words:\n",
    "        ham_corpus.append(word)\n",
    "\n",
    "for words in data[data['target']==1]['msg'].tolist():\n",
    "    for word in words:\n",
    "        spam_corpus.append(word)\n",
    "        \n",
    "        \n",
    "ham_distribution = dict(FreqDist(ham_corpus))\n",
    "spam_distribution = dict(FreqDist(ham_corpus))"
   ]
  },
  {
   "cell_type": "markdown",
   "id": "c818117d",
   "metadata": {},
   "source": [
    "### Step 05:"
   ]
  },
  {
   "cell_type": "markdown",
   "id": "311a014a",
   "metadata": {},
   "source": [
    "### Word Vectorization:"
   ]
  },
  {
   "cell_type": "code",
   "execution_count": 21,
   "id": "49e15356",
   "metadata": {},
   "outputs": [
    {
     "data": {
      "text/plain": [
       "array([[0., 0., 0., ..., 0., 0., 0.],\n",
       "       [0., 0., 0., ..., 0., 0., 0.],\n",
       "       [0., 0., 0., ..., 0., 0., 0.],\n",
       "       ...,\n",
       "       [0., 0., 0., ..., 0., 0., 0.],\n",
       "       [0., 0., 0., ..., 0., 0., 0.],\n",
       "       [0., 0., 0., ..., 0., 0., 0.]])"
      ]
     },
     "execution_count": 21,
     "metadata": {},
     "output_type": "execute_result"
    }
   ],
   "source": [
    "tfidf = TfidfVectorizer(max_features=1500)\n",
    "X = tfidf.fit_transform(data['msg']).toarray()\n",
    "X"
   ]
  },
  {
   "cell_type": "code",
   "execution_count": 22,
   "id": "d5539e1f",
   "metadata": {},
   "outputs": [
    {
     "data": {
      "text/plain": [
       "['../artifacts/Vectorizer/vectorizer.joblib']"
      ]
     },
     "execution_count": 22,
     "metadata": {},
     "output_type": "execute_result"
    }
   ],
   "source": [
    "# save the TF-IDF vectorizer:\n",
    "\n",
    "joblib.dump(tfidf, \"../artifacts/Vectorizer/vectorizer.joblib\")"
   ]
  },
  {
   "cell_type": "code",
   "execution_count": 23,
   "id": "fd0f0419",
   "metadata": {},
   "outputs": [
    {
     "data": {
      "text/plain": [
       "(5157, 1500)"
      ]
     },
     "execution_count": 23,
     "metadata": {},
     "output_type": "execute_result"
    }
   ],
   "source": [
    "# Shape:\n",
    "\n",
    "X.shape"
   ]
  },
  {
   "cell_type": "code",
   "execution_count": 24,
   "id": "5bad4fe5",
   "metadata": {},
   "outputs": [],
   "source": [
    "Y = data['target'].values"
   ]
  },
  {
   "cell_type": "code",
   "execution_count": 25,
   "id": "9fedb91d",
   "metadata": {},
   "outputs": [
    {
     "data": {
      "text/plain": [
       "(5157,)"
      ]
     },
     "execution_count": 25,
     "metadata": {},
     "output_type": "execute_result"
    }
   ],
   "source": [
    "# Shape:\n",
    "\n",
    "Y.shape"
   ]
  },
  {
   "cell_type": "markdown",
   "id": "b32ba7fe",
   "metadata": {},
   "source": [
    "### Step 06:"
   ]
  },
  {
   "cell_type": "markdown",
   "id": "fc86d662",
   "metadata": {},
   "source": [
    "### Save data:"
   ]
  },
  {
   "cell_type": "markdown",
   "id": "232f67ec",
   "metadata": {},
   "source": [
    "* Save the data in **artifacts/Preprocessed_Data/data.csv** directory."
   ]
  },
  {
   "cell_type": "code",
   "execution_count": 26,
   "id": "612ca943",
   "metadata": {},
   "outputs": [],
   "source": [
    "# save the X & Y as DataFrame:\n",
    "\n",
    "data = pd.DataFrame(X)\n",
    "data['target'] = Y"
   ]
  },
  {
   "cell_type": "code",
   "execution_count": 27,
   "id": "30dd986e",
   "metadata": {},
   "outputs": [
    {
     "data": {
      "text/plain": [
       "(5157, 1501)"
      ]
     },
     "execution_count": 27,
     "metadata": {},
     "output_type": "execute_result"
    }
   ],
   "source": [
    "# find the shape:\n",
    "\n",
    "data.shape"
   ]
  },
  {
   "cell_type": "code",
   "execution_count": 28,
   "id": "adb6349b",
   "metadata": {},
   "outputs": [],
   "source": [
    "# save the data in artifacts/Preprocessed_Data/data.csv directory.\n",
    "\n",
    "data.to_csv(\"../artifacts/Preprocessed_Data/data.csv\", index=None)"
   ]
  },
  {
   "cell_type": "code",
   "execution_count": null,
   "id": "157eb623",
   "metadata": {},
   "outputs": [],
   "source": []
  }
 ],
 "metadata": {
  "kernelspec": {
   "display_name": "Python 3 (ipykernel)",
   "language": "python",
   "name": "python3"
  },
  "language_info": {
   "codemirror_mode": {
    "name": "ipython",
    "version": 3
   },
   "file_extension": ".py",
   "mimetype": "text/x-python",
   "name": "python",
   "nbconvert_exporter": "python",
   "pygments_lexer": "ipython3",
   "version": "3.9.7"
  }
 },
 "nbformat": 4,
 "nbformat_minor": 5
}
